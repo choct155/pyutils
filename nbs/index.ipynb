{
 "cells": [
  {
   "cell_type": "markdown",
   "id": "protecting-discovery",
   "metadata": {},
   "source": [
    "# Generic Utilities for Python\n",
    "\n",
    "> This is a convenience project to house generic functionality across projects. It also serves as a test case for the [nbdev](https://nbdev.fast.ai/) workflow on an actual project."
   ]
  },
  {
   "cell_type": "markdown",
   "id": "allied-texas",
   "metadata": {},
   "source": [
    "*Note that you must use a pre-v6.0 version of `nbconvert` with `nbdev`. Even if it says the version number is pre-v6 in a `conda list` call, you may have to explicitly install the right version (`conda install nbconvert==5.6.1`).*"
   ]
  },
  {
   "cell_type": "code",
   "execution_count": null,
   "id": "loose-wales",
   "metadata": {},
   "outputs": [],
   "source": []
  }
 ],
 "metadata": {
  "kernelspec": {
   "display_name": "Python 3",
   "language": "python",
   "name": "python3"
  },
  "language_info": {
   "codemirror_mode": {
    "name": "ipython",
    "version": 3
   },
   "file_extension": ".py",
   "mimetype": "text/x-python",
   "name": "python",
   "nbconvert_exporter": "python",
   "pygments_lexer": "ipython3",
   "version": "3.7.10"
  }
 },
 "nbformat": 4,
 "nbformat_minor": 5
}
