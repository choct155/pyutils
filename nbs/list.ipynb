{
 "cells": [
  {
   "cell_type": "code",
   "execution_count": null,
   "id": "naughty-scholarship",
   "metadata": {},
   "outputs": [],
   "source": [
    "#default_exp pycollections.list"
   ]
  },
  {
   "cell_type": "markdown",
   "id": "common-luxembourg",
   "metadata": {},
   "source": [
    "# Generic List Operations\n",
    "\n",
    "> This module houses generic operations on data held in lists."
   ]
  },
  {
   "cell_type": "code",
   "execution_count": null,
   "id": "domestic-separation",
   "metadata": {},
   "outputs": [],
   "source": [
    "#hide\n",
    "from nbdev.showdoc import *"
   ]
  },
  {
   "cell_type": "markdown",
   "id": "useful-stephen",
   "metadata": {},
   "source": [
    "To start, Python already has the [`reduce()`](https://docs.python.org/3/library/functools.html#functools.reduce) function in the `functools` library, but `reduce` is strictly less powerful than [`fold`](https://en.wikipedia.org/wiki/Fold_(higher-order_function)) insofar as it is designed to stay within the type boundary. That is, `reduce` takes a callable of type `(A, A) -> A`, while `fold` can break through the type boundary by taking a callable of `(B, A) -> B`. In some cases, Python's `reduce` seems to handle this just fine, but it isn't consistent. We can take care of this by forcing the developer to adhere to the contract in `fold`.\n",
    "\n",
    "*Note that Python does not natively support tail call elimination.* Consequently, we must be mindful of blowing the stack. The imperative implementations of a normally recursive approach is motivated by this concern."
   ]
  },
  {
   "cell_type": "code",
   "execution_count": null,
   "id": "finished-value",
   "metadata": {},
   "outputs": [],
   "source": [
    "#export\n",
    "from typing import List, TypeVar, Callable, Dict\n",
    "from dataclasses import dataclass, field\n",
    "\n",
    "\n",
    "A = TypeVar(\"A\")\n",
    "B = TypeVar(\"B\")\n",
    "\n",
    "\n",
    "def foldl_list(a_vals: List[A], start: B, f: Callable[[B, A], B]) -> B:\n",
    "    \"\"\"\n",
    "    Given a way to merge values of `A` with values of `B`, this function\n",
    "    converts a list of values of type `A` into a single value of type `B`.\n",
    "    Note that `B` can be the same as the input type (`List[A]`), but it\n",
    "    need not be.\n",
    "    \"\"\"\n",
    "    out: B = start\n",
    "    for next_a in a_vals:\n",
    "        out = f(out, next_a)\n",
    "    return out"
   ]
  },
  {
   "cell_type": "markdown",
   "id": "numerous-tragedy",
   "metadata": {},
   "source": [
    "The `fold` pattern is quite generic. It can be used to simply add numbers up..."
   ]
  },
  {
   "cell_type": "code",
   "execution_count": null,
   "id": "sorted-peeing",
   "metadata": {},
   "outputs": [
    {
     "data": {
      "text/plain": [
       "10"
      ]
     },
     "execution_count": null,
     "metadata": {},
     "output_type": "execute_result"
    }
   ],
   "source": [
    "xs: List[int] = list(range(5))\n",
    "xs_sum: int = foldl_list(xs, 0, lambda b, a: b + a)\n",
    "xs_sum"
   ]
  },
  {
   "cell_type": "code",
   "execution_count": null,
   "id": "adaptive-siemens",
   "metadata": {},
   "outputs": [],
   "source": [
    "assert foldl_list(xs, 0, lambda b, a: b + a) == 10 # This actually gets run when we run the test suite"
   ]
  },
  {
   "cell_type": "markdown",
   "id": "happy-cowboy",
   "metadata": {},
   "source": [
    "... it can also be used to convert data between different type representations."
   ]
  },
  {
   "cell_type": "code",
   "execution_count": null,
   "id": "secure-infrastructure",
   "metadata": {},
   "outputs": [
    {
     "data": {
      "text/plain": [
       "{'even': [Foo(value=0, even=True),\n",
       "  Foo(value=2, even=True),\n",
       "  Foo(value=4, even=True)],\n",
       " 'odd': [Foo(value=1, even=False), Foo(value=3, even=False)]}"
      ]
     },
     "execution_count": null,
     "metadata": {},
     "output_type": "execute_result"
    }
   ],
   "source": [
    "@dataclass\n",
    "class Foo:\n",
    "    value: int\n",
    "    even: bool = field(default_factory=bool)\n",
    "        \n",
    "    def __post_init__(self) -> None:\n",
    "        self.even = self.value % 2 == 0\n",
    "        \n",
    "\n",
    "def allocate(out: Dict[str, List[Foo]], next_i: int) -> Dict[str, List[Foo]]:\n",
    "    f: Foo = Foo(next_i)\n",
    "    \n",
    "    if f.even:\n",
    "        out.update({\"even\": out[\"even\"] + [f]})\n",
    "    else:\n",
    "        out.update({\"odd\": out[\"odd\"] + [f]})\n",
    "        \n",
    "    return out\n",
    "\n",
    "xs_to_foos: Dict[str, List[Foo]] = foldl_list(xs, {\"even\": [], \"odd\": []}, allocate)\n",
    "xs_to_foos"
   ]
  },
  {
   "cell_type": "markdown",
   "id": "caroline-damage",
   "metadata": {},
   "source": [
    "As can be seen, the transformation is arbitrary. What makes this pattern powerful is that allows us to focus on a single transformation while `fold` takes care of traversal. \n",
    "\n",
    "The `l` is `foldl_list` indicates that we are [folding from the left](https://superruzafa.github.io/visual-scala-reference/foldLeft/), in the sense that we are updating our output value and carrying forward to the next value in the list. We can also [fold from the right](https://superruzafa.github.io/visual-scala-reference/foldRight/). Effectively, we wait until the last stack frame before resolving any of the calls. It is harder to avoid a recursive approach here, so we should use it with caution."
   ]
  },
  {
   "cell_type": "code",
   "execution_count": null,
   "id": "treated-textbook",
   "metadata": {},
   "outputs": [],
   "source": [
    "#export\n",
    "def foldr_list(a_vals: List[A], start: B, f: Callable[[A, B], B]) -> B:\n",
    "    \"\"\"\n",
    "    Given a way to merge values of `A` with values of `B`, this function\n",
    "    converts a list of values of type `A` into a single value of type `B`.\n",
    "    Note that `B` can be the same as the input type (`List[A]`), but it\n",
    "    need not be.\n",
    "    \n",
    "    This function is much like `foldl_list`, except that it resolves in the\n",
    "    reverse order. Note also that `start` plays the role of the output variable\n",
    "    after the first call.\n",
    "    \"\"\"\n",
    "    if len(a_vals) == 0:\n",
    "        return start\n",
    "    else:\n",
    "        next_a: A\n",
    "        remaining_a_vals: List[A]\n",
    "        next_a, *remaining_a_vals = a_vals\n",
    "        return f(next_a, foldr_list(remaining_a_vals, start, f))"
   ]
  },
  {
   "cell_type": "markdown",
   "id": "played-talent",
   "metadata": {},
   "source": [
    "`foldr_list` is deployed in a very similar fashion to `foldl_list`."
   ]
  },
  {
   "cell_type": "code",
   "execution_count": null,
   "id": "alone-riverside",
   "metadata": {},
   "outputs": [
    {
     "data": {
      "text/plain": [
       "10"
      ]
     },
     "execution_count": null,
     "metadata": {},
     "output_type": "execute_result"
    }
   ],
   "source": [
    "xs_sum2: int = foldr_list(xs, 0, lambda a, b: a + b)\n",
    "\n",
    "xs_sum2"
   ]
  },
  {
   "cell_type": "code",
   "execution_count": null,
   "id": "accredited-catch",
   "metadata": {},
   "outputs": [],
   "source": [
    "assert foldr_list(xs, 0, lambda a, b: a + b) == 10"
   ]
  },
  {
   "cell_type": "markdown",
   "id": "nuclear-afghanistan",
   "metadata": {},
   "source": [
    "However, there is a difference that is more apparent when order is important. Suppose we wanted to use `fold` to implement a mapping operating. We can note that folding right will reverse the order unless we go out of our way to prevent it."
   ]
  },
  {
   "cell_type": "code",
   "execution_count": null,
   "id": "periodic-small",
   "metadata": {},
   "outputs": [
    {
     "data": {
      "text/plain": [
       "([0, 1, 2, 3, 4], [4, 3, 2, 1, 0])"
      ]
     },
     "execution_count": null,
     "metadata": {},
     "output_type": "execute_result"
    }
   ],
   "source": [
    "map_left: Callable[[List[int], int], List[int]] = lambda b, a: b + [a]\n",
    "map_right: Callable[[int, List[int]], List[int]] = lambda a, b: b + [a]\n",
    "    \n",
    "foldl_list(xs, [], map_left), foldr_list(xs, [], map_right)"
   ]
  },
  {
   "cell_type": "markdown",
   "id": "soviet-cisco",
   "metadata": {},
   "source": [
    "Given the concern about stack overflows, defaulting to `foldl_list` is a reasonable bias. The onus should be on the developer to demonstrate that `foldr_list` is more appropriate."
   ]
  }
 ],
 "metadata": {
  "kernelspec": {
   "display_name": "Python 3",
   "language": "python",
   "name": "python3"
  }
 },
 "nbformat": 4,
 "nbformat_minor": 5
}
